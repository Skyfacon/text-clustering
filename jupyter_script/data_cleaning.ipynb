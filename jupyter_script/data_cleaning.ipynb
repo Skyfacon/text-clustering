{
 "cells": [
  {
   "cell_type": "code",
   "execution_count": 3,
   "id": "2601cd13",
   "metadata": {},
   "outputs": [],
   "source": [
    "x = []\n",
    "with open(\"../data/toutiao_cat_data.txt\", \"r\", encoding=\"utf-8\") as f:\n",
    "    for line in f:\n",
    "        x.append(line.strip())"
   ]
  },
  {
   "cell_type": "code",
   "execution_count": 6,
   "id": "a8cf8f15",
   "metadata": {},
   "outputs": [],
   "source": [
    "data_list = []\n",
    "sep = \"_!_\"\n",
    "for item in x:\n",
    "    data_list.append(item.split(sep))"
   ]
  },
  {
   "cell_type": "code",
   "execution_count": 7,
   "id": "d04d94bc",
   "metadata": {},
   "outputs": [
    {
     "data": {
      "text/plain": [
       "['6551700932705387022',\n",
       " '101',\n",
       " 'news_culture',\n",
       " '京城最值得你来场文化之旅的博物馆',\n",
       " '保利集团,马未都,中国科学技术馆,博物馆,新中国']"
      ]
     },
     "execution_count": 7,
     "metadata": {},
     "output_type": "execute_result"
    }
   ],
   "source": [
    "data_list[0]"
   ]
  },
  {
   "cell_type": "code",
   "execution_count": 4,
   "id": "e9d4023a",
   "metadata": {},
   "outputs": [],
   "source": []
  },
  {
   "cell_type": "code",
   "execution_count": 5,
   "id": "8e906627",
   "metadata": {},
   "outputs": [
    {
     "data": {
      "text/plain": [
       "['<doc>',\n",
       " '<url>http://news.sohu.com/20120612/n345428229.shtml</url>',\n",
       " '<docno>c172394d49da2142-69713306c0bb3300</docno>',\n",
       " '<contenttitle>公安机关销毁１０余万非法枪支\\u3000跨国武器走私渐起</contenttitle>',\n",
       " '<content>中广网唐山６月１２日消息（记者汤一亮\\u3000庄胜春）据中国之声《新闻晚高峰》报道，今天（１２日）上午，公安机关２０１２年缉枪制爆专项行动“统一销毁非法枪爆物品活动”在河北唐山正式启动，１０万余只非法枪支、２５０余吨炸药在全国１５０个城市被统一销毁。；泼鳎合衷谖倚布，全国缉枪制爆统一销毁行动开始！Ｋ孀殴安部副部长黄明一声令下，大量仿制式枪以及猎枪、火药枪、气枪在河北唐山钢铁厂被投入炼钢炉。与此同时，在全国各省区市１５０个城市，破案追缴和群众主动上缴的１０万余支非法枪支被集中销毁，在全国各指定场所，２５０余吨炸药被分别销毁。公安部治安局局长刘绍武介绍，这次销毁的非法枪支来源于三个方面。Ａ跎芪洌捍蚧髌瓢赴括涉黑、涉恶的团伙犯罪、毒品犯罪，还有从境外非法走私的枪支爆炸物。Ｔ谙毁现场，记者看到了被追缴和上缴的各式各样的枪支。Ａ跎芪洌阂舶括制式枪，有的是军用枪、仿制的制式抢，还有猎枪、私制的火药枪等等。按照我国的枪支管理法，这些都是严厉禁止个人非法持有的。中国是世界上持枪犯罪的犯罪率最低的国家之一。Ｖ忻懒手破获特大跨国走私武器弹药案＝日，中美执法部门联手成功破获特大跨国走私武器弹药案，在中国抓获犯罪嫌疑人２３名，缴获各类枪支９３支、子弹５万余发及大量枪支配件。在美国抓获犯罪嫌疑人３名，缴获各类枪支１２支。这是公安部与美国移民海关执法局通过联合调查方式侦破重大跨国案件的又一成功案例。＃玻埃保蹦辏冈拢玻等眨上海浦东国际机场海关在对美国纽约发往浙江台州，申报品名为扩音器（音箱）的快件进行查验时，发现货物内藏有手枪９支，枪支配件９件，长枪部件７件。经检验，这些都是具有杀伤力的制式枪支及其配件。这引起了公安部和海关总署的高度重视。９安部刑侦局局长刘安成：因为是从海关进口的货物中检查出来夹带，说明来源地是境外，或是说国外，这应该是一起特大跨国走私武器弹药的案件。Ｉ虾Ｊ泄安局和上海海关缉私局成立联合专案组，迅速开展案件侦查。专案组于８月２６日在浙江台州ＵＰＳ取件处将犯罪嫌疑人王挺（男，３２岁，台州市人）抓获。王挺交代，他通过一境外网站上认识了上家林志富，２００９年１１月以来，林志富长期居住美国，他通过互联网组建了一个走私、贩卖、私藏枪支弹药的群体，通过网络在国内寻找枪支弹药买家，并通过美国ＵＰＳ联邦速递公司将枪支弹药从纽约快递给多名类似王挺的中间人，再通过中间人发送给国内买家。４税钢校犯罪分子依托虚拟网络进行犯罪交易，隐蔽性强，涉案人员使用的身份、地址、联系方式都是虚构的，侦查难度很大。刘安成说，此案体现了是新型犯罪，特别是现代犯罪的新特点。Ａ醢渤桑核不受距离的限制、经常是跨国跨境，甚至是跨一个、数个、甚至数十个国家。这种犯罪手法的改变和新型犯罪的特点，要求我们各国警方充分合作。Ｗ髡撸禾酪涣痢∽胜春</content>',\n",
       " '</doc>']"
      ]
     },
     "execution_count": 5,
     "metadata": {},
     "output_type": "execute_result"
    }
   ],
   "source": [
    "x"
   ]
  },
  {
   "cell_type": "code",
   "execution_count": 66,
   "id": "1d2bd2be",
   "metadata": {},
   "outputs": [],
   "source": [
    "class ItemListLenInvalidError(Exception):\n",
    "    def __init__(self, message):\n",
    "        self.message = message\n",
    "def parse_one(item_list):\n",
    "    valid_list_len = 6\n",
    "    if len(item_list) != 6:\n",
    "        raise ItemListLenInvalidError(\"invalid item List len\")\n",
    "    url = item_list[1].strip(\"<url>\").strip(\"</\")\n",
    "    docno = item_list[2].strip(\"<docno>\").strip(\"</\")\n",
    "    title = item_list[3].strip(\"<contenttitle>\").strip(\"</\")\n",
    "    title = title.replace(\"\\u3000\", \" \")\n",
    "    content = item_list[4].strip(\"<content>\").strip(\"</\")\n",
    "    return {\n",
    "        \"url\": url,\n",
    "        \"docno\": docno,\n",
    "        \"title\": title,\n",
    "        \"content\": content\n",
    "    }"
   ]
  },
  {
   "cell_type": "code",
   "execution_count": 67,
   "id": "2d52079b",
   "metadata": {
    "scrolled": true
   },
   "outputs": [
    {
     "data": {
      "text/plain": [
       "{'url': 'http://news.sohu.com/20120612/n345428229.shtml',\n",
       " 'docno': '172394d49da2142-69713306c0bb3300',\n",
       " 'title': '公安机关销毁１０余万非法枪支 跨国武器走私渐起',\n",
       " 'content': '中广网唐山６月１２日消息（记者汤一亮\\u3000庄胜春）据中国之声《新闻晚高峰》报道，今天（１２日）上午，公安机关２０１２年缉枪制爆专项行动“统一销毁非法枪爆物品活动”在河北唐山正式启动，１０万余只非法枪支、２５０余吨炸药在全国１５０个城市被统一销毁。；泼鳎合衷谖倚布，全国缉枪制爆统一销毁行动开始！Ｋ孀殴安部副部长黄明一声令下，大量仿制式枪以及猎枪、火药枪、气枪在河北唐山钢铁厂被投入炼钢炉。与此同时，在全国各省区市１５０个城市，破案追缴和群众主动上缴的１０万余支非法枪支被集中销毁，在全国各指定场所，２５０余吨炸药被分别销毁。公安部治安局局长刘绍武介绍，这次销毁的非法枪支来源于三个方面。Ａ跎芪洌捍蚧髌瓢赴括涉黑、涉恶的团伙犯罪、毒品犯罪，还有从境外非法走私的枪支爆炸物。Ｔ谙毁现场，记者看到了被追缴和上缴的各式各样的枪支。Ａ跎芪洌阂舶括制式枪，有的是军用枪、仿制的制式抢，还有猎枪、私制的火药枪等等。按照我国的枪支管理法，这些都是严厉禁止个人非法持有的。中国是世界上持枪犯罪的犯罪率最低的国家之一。Ｖ忻懒手破获特大跨国走私武器弹药案＝日，中美执法部门联手成功破获特大跨国走私武器弹药案，在中国抓获犯罪嫌疑人２３名，缴获各类枪支９３支、子弹５万余发及大量枪支配件。在美国抓获犯罪嫌疑人３名，缴获各类枪支１２支。这是公安部与美国移民海关执法局通过联合调查方式侦破重大跨国案件的又一成功案例。＃玻埃保蹦辏冈拢玻等眨上海浦东国际机场海关在对美国纽约发往浙江台州，申报品名为扩音器（音箱）的快件进行查验时，发现货物内藏有手枪９支，枪支配件９件，长枪部件７件。经检验，这些都是具有杀伤力的制式枪支及其配件。这引起了公安部和海关总署的高度重视。９安部刑侦局局长刘安成：因为是从海关进口的货物中检查出来夹带，说明来源地是境外，或是说国外，这应该是一起特大跨国走私武器弹药的案件。Ｉ虾Ｊ泄安局和上海海关缉私局成立联合专案组，迅速开展案件侦查。专案组于８月２６日在浙江台州ＵＰＳ取件处将犯罪嫌疑人王挺（男，３２岁，台州市人）抓获。王挺交代，他通过一境外网站上认识了上家林志富，２００９年１１月以来，林志富长期居住美国，他通过互联网组建了一个走私、贩卖、私藏枪支弹药的群体，通过网络在国内寻找枪支弹药买家，并通过美国ＵＰＳ联邦速递公司将枪支弹药从纽约快递给多名类似王挺的中间人，再通过中间人发送给国内买家。４税钢校犯罪分子依托虚拟网络进行犯罪交易，隐蔽性强，涉案人员使用的身份、地址、联系方式都是虚构的，侦查难度很大。刘安成说，此案体现了是新型犯罪，特别是现代犯罪的新特点。Ａ醢渤桑核不受距离的限制、经常是跨国跨境，甚至是跨一个、数个、甚至数十个国家。这种犯罪手法的改变和新型犯罪的特点，要求我们各国警方充分合作。Ｗ髡撸禾酪涣痢∽胜春'}"
      ]
     },
     "execution_count": 67,
     "metadata": {},
     "output_type": "execute_result"
    }
   ],
   "source": [
    "parse_one(x)"
   ]
  },
  {
   "cell_type": "code",
   "execution_count": 68,
   "id": "583dc3ce",
   "metadata": {},
   "outputs": [],
   "source": [
    "file_path = '../data/news.txt' \n",
    "cnt = 0\n",
    "curr = []\n",
    "res = []\n",
    "with open(file_path, 'r', encoding=\"utf-8\") as file:\n",
    "    for line in file:\n",
    "        cnt += 1\n",
    "        curr.append(line.strip())\n",
    "        if cnt % 6 == 0:\n",
    "            try:\n",
    "                curr_res = parse_one(curr)\n",
    "                res.append(curr_res)\n",
    "            except ItemListLenInvalidError as e:\n",
    "                print(e.message)\n",
    "            finally:\n",
    "                curr = []"
   ]
  },
  {
   "cell_type": "code",
   "execution_count": 74,
   "id": "ee5ba6c0",
   "metadata": {},
   "outputs": [],
   "source": [
    "import json\n",
    "with open(\"../data/sougouCA.json\", \"w\", encoding=\"utf-8\") as fout:\n",
    "    for item in res:\n",
    "        fout.write(json.dumps(item, ensure_ascii=False) + \"\\n\")"
   ]
  },
  {
   "cell_type": "code",
   "execution_count": 75,
   "id": "d655a6f2",
   "metadata": {},
   "outputs": [],
   "source": [
    "with open(\"../data/sougouCA_title.txt\", \"w\", encoding=\"utf-8\") as f2:\n",
    "    for item in res:\n",
    "        f2.write(item[\"title\"] + \"\\n\")"
   ]
  },
  {
   "cell_type": "code",
   "execution_count": null,
   "id": "3523ef9b",
   "metadata": {},
   "outputs": [],
   "source": []
  }
 ],
 "metadata": {
  "kernelspec": {
   "display_name": "Python 3 (ipykernel)",
   "language": "python",
   "name": "python3"
  },
  "language_info": {
   "codemirror_mode": {
    "name": "ipython",
    "version": 3
   },
   "file_extension": ".py",
   "mimetype": "text/x-python",
   "name": "python",
   "nbconvert_exporter": "python",
   "pygments_lexer": "ipython3",
   "version": "3.10.9"
  }
 },
 "nbformat": 4,
 "nbformat_minor": 5
}
